{
 "cells": [
  {
   "cell_type": "code",
   "execution_count": 9,
   "metadata": {
    "vscode": {
     "languageId": "sage"
    }
   },
   "outputs": [
    {
     "name": "stdout",
     "output_type": "stream",
     "text": [
      "[ 3 -1 -1 -1]\n",
      "[-1  2 -1  0]\n",
      "[-1 -1  3 -1]\n",
      "[-1  0 -1  2]\n",
      "[ 2 -1  0]\n",
      "[-1  3 -1]\n",
      "[ 0 -1  2]\n",
      "8\n"
     ]
    }
   ],
   "source": [
    "#hello hisham\n",
    "from sage.graphs.graph import Graph\n",
    "\n",
    "# Creating a graph with vertices and edges\n",
    "G = Graph()\n",
    "G.add_vertices([1, 2, 3, 4])\n",
    "G.add_edges([(1, 2, -1), (2, 3, 1), (3, 4, 1), (4, 1, -1), (1, 3, 1)])\n",
    "L = G.laplacian_matrix()\n",
    "L_star = L.delete_rows([0]).delete_columns([0])\n",
    "\n",
    "\n",
    "print(L)\n",
    "print(L_star)\n",
    "\n",
    "det = L_star.det()\n",
    "print(det)\n"
   ]
  },
  {
   "cell_type": "code",
   "execution_count": 223,
   "metadata": {
    "vscode": {
     "languageId": "sage"
    }
   },
   "outputs": [],
   "source": [
    "def laplacian(G, i, j):\n",
    "    L = G.laplacian_matrix()\n",
    "    L_star = L.delete_rows([i]).delete_columns([j])\n",
    "    det = L_star.det()\n",
    "    return L, L_star, det"
   ]
  },
  {
   "cell_type": "code",
   "execution_count": 16,
   "metadata": {
    "vscode": {
     "languageId": "sage"
    }
   },
   "outputs": [
    {
     "name": "stdout",
     "output_type": "stream",
     "text": [
      "i = 1, j = 1, det: 8\n",
      "i = 1, j = 2, det: -8\n",
      "i = 1, j = 3, det: 8\n",
      "i = 2, j = 1, det: -8\n",
      "i = 2, j = 2, det: 8\n",
      "i = 2, j = 3, det: -8\n",
      "i = 3, j = 1, det: 8\n",
      "i = 3, j = 2, det: -8\n",
      "i = 3, j = 3, det: 8\n"
     ]
    }
   ],
   "source": [
    "G = Graph()\n",
    "G.add_vertices([1, 2, 3, 4])\n",
    "G.add_edges([(1, 2, -1), (2, 3, 1), (3, 4, 1), (4, 1, -1), (1, 3, 1)])\n",
    "\n",
    "for i in range(0, 3):\n",
    "    for j in range(0, 3):\n",
    "        results = laplacian(G, i, j)\n",
    "        print(f\"i = {i+1}, j = {j+1}, det: {results[2]}\")"
   ]
  },
  {
   "cell_type": "code",
   "execution_count": 6,
   "metadata": {
    "vscode": {
     "languageId": "sage"
    }
   },
   "outputs": [
    {
     "name": "stdout",
     "output_type": "stream",
     "text": [
      "t^-2 - t^-1 + 1 - t + t^2\n"
     ]
    }
   ],
   "source": [
    "\n",
    "K_51 = Knots().from_table(5, 1)\n",
    "K_52 = Knots().from_table(5, 2)\n",
    "K_61 = Knots().from_table(6, 1)\n",
    "K_62 = Knots().from_table(6, 2)\n",
    "K_63 = Knots().from_table(6, 3)\n",
    "K_71 = Knots().from_table(7, 1)\n",
    "K_72 = Knots().from_table(7, 2)\n",
    "K_73 = Knots().from_table(7, 3)\n",
    "K_74 = Knots().from_table(7, 4)\n",
    "K_75 = Knots().from_table(7, 5)\n",
    "K_76 = Knots().from_table(7, 6)\n",
    "K_77 = Knots().from_table(7, 7)\n",
    "\n",
    "K_51a = K_51.alexander_polynomial()\n",
    "print(K_51a)\n",
    "\n",
    "\n"
   ]
  },
  {
   "cell_type": "code",
   "execution_count": 29,
   "metadata": {
    "vscode": {
     "languageId": "sage"
    }
   },
   "outputs": [
    {
     "data": {
      "image/png": "[encoded data removed]",
      "text/plain": [
       "Graphics object consisting of 11 graphics primitives"
      ]
     },
     "metadata": {},
     "output_type": "display_data"
    },
    {
     "data": {
      "text/plain": [
       "(\n",
       "[ 2 -1  0  0 -1]                  \n",
       "[-1  2 -1  0  0]  [ 2 -1  0  0]   \n",
       "[ 0 -1  2 -1  0]  [-1  2 -1  0]   \n",
       "[ 0  0 -1  2 -1]  [ 0 -1  2 -1]   \n",
       "[-1  0  0 -1  2], [ 0  0 -1  2], 5\n",
       ")"
      ]
     },
     "execution_count": 29,
     "metadata": {},
     "output_type": "execute_result"
    }
   ],
   "source": [
    "G_51 = Graph()\n",
    "G_51.add_vertices([0, 1, 2, 3, 4])\n",
    "G_51.add_edges([(0, 1, 1), (1, 2, 1), (2, 3, 1), (3, 4, 1), (0, 4, 1)])\n",
    "\n",
    "plot = G_51.plot()\n",
    "\n",
    "plot.show()\n",
    "\n",
    "laplacian(G_51, 0, 0)"
   ]
  },
  {
   "cell_type": "code",
   "execution_count": 65,
   "metadata": {
    "vscode": {
     "languageId": "sage"
    }
   },
   "outputs": [],
   "source": [
    "L = Link('3_1')\n",
    "K = L.sage_link()\n",
    "gc = K.gauss_code()\n",
    "pd_code = L.PD_code()\n",
    "dn = K.dowker_notation()\n"
   ]
  },
  {
   "cell_type": "code",
   "execution_count": 31,
   "metadata": {
    "vscode": {
     "languageId": "sage"
    }
   },
   "outputs": [
    {
     "data": {
      "text/plain": [
       "[[2, -3, 4, -2, 1, -4, 3, -1]]"
      ]
     },
     "execution_count": 31,
     "metadata": {},
     "output_type": "execute_result"
    }
   ],
   "source": [
    "L = Link('4_1')\n",
    "K = L.sage_link()\n",
    "gc = K.gauss_code()\n",
    "gc"
   ]
  },
  {
   "cell_type": "code",
   "execution_count": 79,
   "metadata": {
    "vscode": {
     "languageId": "sage"
    }
   },
   "outputs": [
    {
     "data": {
      "text/plain": [
       "[(5, 2, 0, 3), (3, 0, 4, 1), (1, 4, 2, 5)]"
      ]
     },
     "execution_count": 79,
     "metadata": {},
     "output_type": "execute_result"
    }
   ],
   "source": [
    "L = Link('3_1')\n",
    "K = L.sage_link()\n",
    "gc = K.gauss_code()\n",
    "pd = L.PD_code()\n",
    "pd"
   ]
  },
  {
   "cell_type": "code",
   "execution_count": 85,
   "metadata": {
    "vscode": {
     "languageId": "sage"
    }
   },
   "outputs": [
    {
     "name": "stdout",
     "output_type": "stream",
     "text": [
      "Dowker Notation: [(6, 3), (4, 1), (2, 5)], regions: [[6, 4, 2], [5, -2], [3, -6], [1, -4], [-1, -3, -5]]\n"
     ]
    }
   ],
   "source": [
    "L = Link('3_1')\n",
    "K = L.sage_link()\n",
    "dn = K.dowker_notation()\n",
    "regions = K.regions()\n",
    "print(f'Dowker Notation: {dn}, regions: {regions}')"
   ]
  },
  {
   "cell_type": "code",
   "execution_count": 84,
   "metadata": {
    "vscode": {
     "languageId": "sage"
    }
   },
   "outputs": [
    {
     "data": {
      "text/plain": [
       "[[5, -2], [3, -6], [1, -4]]"
      ]
     },
     "execution_count": 84,
     "metadata": {},
     "output_type": "execute_result"
    }
   ],
   "source": [
    "def list_filter(l):\n",
    "    filtered_list = [sublist for sublist in l if len(sublist) == 2]\n",
    "    return filtered_list\n",
    "\n",
    "list_filter(regions)"
   ]
  },
  {
   "cell_type": "code",
   "execution_count": 179,
   "metadata": {
    "vscode": {
     "languageId": "sage"
    }
   },
   "outputs": [],
   "source": [
    "import networkx as nx\n",
    "def graph_of_link(L):\n",
    "    dig = L.digraph()\n",
    "    G = nx.DiGraph()\n",
    "    for v in dig.vertices:\n",
    "        G.add_node(v)\n",
    "    for e in dig.edges:\n",
    "        G.add_edge(e[0], e[1])\n",
    "    G_und = G.to_undirected()\n",
    "    return G_und\n",
    "    "
   ]
  },
  {
   "cell_type": "code",
   "execution_count": 117,
   "metadata": {
    "vscode": {
     "languageId": "sage"
    }
   },
   "outputs": [
    {
     "data": {
      "image/png": "[encoded data removed]",
      "text/plain": [
       "<Figure size 432x288 with 1 Axes>"
      ]
     },
     "metadata": {},
     "output_type": "display_data"
    }
   ],
   "source": [
    "L_51 = Link('5_1')\n",
    "L_51M = L_51.mirror()\n",
    "\n",
    "graph_of_link(L_51)\n"
   ]
  },
  {
   "cell_type": "code",
   "execution_count": 118,
   "metadata": {
    "vscode": {
     "languageId": "sage"
    }
   },
   "outputs": [
    {
     "data": {
      "image/png": "[encoded data removed]",
      "text/plain": [
       "<Figure size 432x288 with 1 Axes>"
      ]
     },
     "metadata": {},
     "output_type": "display_data"
    }
   ],
   "source": [
    "graph_of_link(L_51M)"
   ]
  },
  {
   "cell_type": "code",
   "execution_count": 115,
   "metadata": {
    "vscode": {
     "languageId": "sage"
    }
   },
   "outputs": [
    {
     "data": {
      "image/png": "[encoded data removed]",
      "text/plain": [
       "<Figure size 432x288 with 1 Axes>"
      ]
     },
     "metadata": {},
     "output_type": "display_data"
    }
   ],
   "source": [
    "import networkx as nx\n",
    "L = Link('3_1')\n",
    "dig = L.digraph()\n",
    "G = nx.DiGraph()\n",
    "for v in dig.vertices:\n",
    "    G.add_node(v)\n",
    "for e in dig.edges:\n",
    "    G.add_edge(e[0], e[1])\n",
    "pos = nx.spring_layout(G)\n",
    "nx.draw(G, pos, with_labels=True, node_size=700, node_color='lightblue', arrowsize=1)"
   ]
  },
  {
   "cell_type": "code",
   "execution_count": 130,
   "metadata": {
    "vscode": {
     "languageId": "sage"
    }
   },
   "outputs": [
    {
     "data": {
      "text/plain": [
       "[-1  0]\n",
       "[-1  1]"
      ]
     },
     "execution_count": 130,
     "metadata": {},
     "output_type": "execute_result"
    }
   ],
   "source": [
    "L = Link([(3,7,4,6),(7,3,8,2),(1,4,2,5),(5,8,6,1)])\n",
    "seifert_matrix = L.seifert_matrix()\n",
    "seifert_matrix"
   ]
  },
  {
   "cell_type": "code",
   "execution_count": 156,
   "metadata": {
    "vscode": {
     "languageId": "sage"
    }
   },
   "outputs": [
    {
     "data": {
      "text/plain": [
       "7"
      ]
     },
     "execution_count": 156,
     "metadata": {},
     "output_type": "execute_result"
    }
   ],
   "source": [
    "L = Link([(5,10,6,1),(1,6,2,7),(7,4,8,5),(9,2,10,3),(3,8,4,9)])\n",
    "K = L.sage_link()\n",
    "#plot = K.plot()\n",
    "#plot.show()\n",
    "seifert_matrix = K.seifert_matrix()\n",
    "seifert_matrix\n",
    "sm_t = seifert_matrix.transpose()\n",
    "added = sm_t + seifert_matrix\n",
    "added\n",
    "added.det()"
   ]
  },
  {
   "cell_type": "code",
   "execution_count": 157,
   "metadata": {
    "vscode": {
     "languageId": "sage"
    }
   },
   "outputs": [
    {
     "data": {
      "text/plain": [
       "3"
      ]
     },
     "execution_count": 157,
     "metadata": {},
     "output_type": "execute_result"
    }
   ],
   "source": [
    "trefoil_w_R2 = Link([(5,1,6,10),(6,1,7,2),(7,3,8,2),(3,9,4,8),(9,5,10,4)])\n",
    "K = trefoil_w_R2.sage_link()\n",
    "seifert_matrix = K.seifert_matrix()\n",
    "seifert_matrix_transpose = seifert_matrix.transpose()\n",
    "added = seifert_matrix + seifert_matrix_transpose\n",
    "added.det()"
   ]
  },
  {
   "cell_type": "code",
   "execution_count": 234,
   "metadata": {
    "vscode": {
     "languageId": "sage"
    }
   },
   "outputs": [],
   "source": [
    "def reduced_laplacian(L, i, j):\n",
    "    mtx = matrix(L)\n",
    "    L_star = mtx.delete_rows([i]).delete_columns([j])\n",
    "    det = L_star.det()\n",
    "    return L_star, det"
   ]
  },
  {
   "cell_type": "code",
   "execution_count": 243,
   "metadata": {
    "vscode": {
     "languageId": "sage"
    }
   },
   "outputs": [
    {
     "data": {
      "image/png": "[encoded data removed]",
      "text/plain": [
       "Graphics object consisting of 21 graphics primitives"
      ]
     },
     "metadata": {},
     "output_type": "display_data"
    },
    {
     "data": {
      "text/plain": [
       "(\n",
       "[ 3 -1 -1  0]    \n",
       "[-1  3 -1 -1]    \n",
       "[-1 -1  4 -1]    \n",
       "[ 0 -1 -1  3], 45\n",
       ")"
      ]
     },
     "execution_count": 243,
     "metadata": {},
     "output_type": "execute_result"
    }
   ],
   "source": [
    "import snappy\n",
    "import networkx as nx\n",
    "\n",
    "L = snappy.random_link(10)\n",
    "K = L.sage_link()\n",
    "G_dir = graph_of_link(L)\n",
    "G = graph_of_link(L)\n",
    "plot = K.plot()\n",
    "plot.show()\n",
    "lap = nx.laplacian_matrix(G).toarray()\n",
    "lap\n",
    "laplacian = reduced_laplacian(lap, 0, 0)\n",
    "laplacian"
   ]
  }
 ],
 "metadata": {
  "kernelspec": {
   "display_name": "SageMath 9.5",
   "language": "sage",
   "name": "sagemath"
  },
  "language_info": {
   "codemirror_mode": {
    "name": "ipython",
    "version": 3
   },
   "file_extension": ".py",
   "mimetype": "text/x-python",
   "name": "python",
   "nbconvert_exporter": "python",
   "pygments_lexer": "ipython3",
   "version": "3.10.12"
  }
 },
 "nbformat": 4,
 "nbformat_minor": 2
}
