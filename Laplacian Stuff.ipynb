{
 "cells": [
  {
   "cell_type": "code",
   "execution_count": 9,
   "metadata": {
    "vscode": {
     "languageId": "sage"
    }
   },
   "outputs": [
    {
     "name": "stdout",
     "output_type": "stream",
     "text": [
      "For the 1th row and 1th column deletion, det = -3\n",
      "For the 2th row and 1th column deletion, det = 3\n",
      "For the 3th row and 1th column deletion, det = -3\n",
      "For the 4th row and 1th column deletion, det = 3\n",
      "For the 1th row and 2th column deletion, det = -1\n",
      "For the 2th row and 2th column deletion, det = 1\n",
      "For the 3th row and 2th column deletion, det = -1\n",
      "For the 4th row and 2th column deletion, det = 1\n",
      "For the 1th row and 3th column deletion, det = -3\n",
      "For the 2th row and 3th column deletion, det = 3\n",
      "For the 3th row and 3th column deletion, det = -3\n",
      "For the 4th row and 3th column deletion, det = 3\n",
      "For the 1th row and 4th column deletion, det = -1\n",
      "For the 2th row and 4th column deletion, det = 1\n",
      "For the 3th row and 4th column deletion, det = -1\n",
      "For the 4th row and 4th column deletion, det = 1\n"
     ]
    }
   ],
   "source": [
    "A = matrix([[0,1,0,0,-1],[-1,0,1,0,0],[0,-1,0,1,0],[0,0,-1,-2,-1],[1,0,0,1,2]])\n",
    "def laplacian(A, i, j):\n",
    "    #L = G.laplacian_matrix()\n",
    "    L_star = A.delete_rows([i]).delete_columns([j])\n",
    "    det = L_star.det()\n",
    "    return L_star, det\n",
    "\n",
    "for j in range(0,4):\n",
    "    for i in range(0,4):\n",
    "        print(f\"For the {i+1}th row and {j+1}th column deletion, det = {laplacian(A, i, j)[1]}\")\n"
   ]
  },
  {
   "cell_type": "code",
   "execution_count": 15,
   "metadata": {
    "vscode": {
     "languageId": "sage"
    }
   },
   "outputs": [
    {
     "name": "stdout",
     "output_type": "stream",
     "text": [
      "For the 1th row and 1th column deletion, det = 1\n",
      "For the 1th row and 2th column deletion, det = -1\n",
      "For the 1th row and 3th column deletion, det = 1\n",
      "For the 2th row and 1th column deletion, det = -1\n",
      "For the 2th row and 2th column deletion, det = 1\n",
      "For the 2th row and 3th column deletion, det = -1\n",
      "For the 3th row and 1th column deletion, det = 1\n",
      "For the 3th row and 2th column deletion, det = -1\n",
      "For the 3th row and 3th column deletion, det = 1\n"
     ]
    }
   ],
   "source": [
    "A = matrix([[1,-1,0],[0,1,-1],[-1,0,1]])\n",
    "for i in range(0,3):\n",
    "    for j in range(0,3):\n",
    "        print(f\"For the {i+1}th row and {j+1}th column deletion, det = {laplacian(A, i, j)[1]}\")"
   ]
  },
  {
   "cell_type": "code",
   "execution_count": 21,
   "metadata": {
    "vscode": {
     "languageId": "sage"
    }
   },
   "outputs": [
    {
     "name": "stdout",
     "output_type": "stream",
     "text": [
      "For the 1th row and 1th column deletion, det = 1\n",
      "For the 1th row and 2th column deletion, det = 1\n",
      "For the 1th row and 3th column deletion, det = 1\n",
      "For the 1th row and 4th column deletion, det = 1\n",
      "For the 1th row and 5th column deletion, det = 1\n",
      "For the 2th row and 1th column deletion, det = 1\n",
      "For the 2th row and 2th column deletion, det = 1\n",
      "For the 2th row and 3th column deletion, det = 1\n",
      "For the 2th row and 4th column deletion, det = 1\n",
      "For the 2th row and 5th column deletion, det = 1\n",
      "For the 3th row and 1th column deletion, det = 1\n",
      "For the 3th row and 2th column deletion, det = 1\n",
      "For the 3th row and 3th column deletion, det = 1\n",
      "For the 3th row and 4th column deletion, det = 1\n",
      "For the 3th row and 5th column deletion, det = 1\n",
      "For the 4th row and 1th column deletion, det = 1\n",
      "For the 4th row and 2th column deletion, det = 1\n",
      "For the 4th row and 3th column deletion, det = 1\n",
      "For the 4th row and 4th column deletion, det = 1\n",
      "For the 4th row and 5th column deletion, det = 1\n",
      "For the 5th row and 1th column deletion, det = 1\n",
      "For the 5th row and 2th column deletion, det = 1\n",
      "For the 5th row and 3th column deletion, det = 1\n",
      "For the 5th row and 4th column deletion, det = 1\n",
      "For the 5th row and 5th column deletion, det = 1\n"
     ]
    }
   ],
   "source": [
    "A = matrix([[0,-1,0,0,-1],[1,0,-1,0,0],[0,1,0,-1,0],[0,0,1,0,-1],[1,0,0,1,0]])\n",
    "for i in range(0,5):\n",
    "    for j in range(0,5):\n",
    "        print(f\"For the {i+1}th row and {j+1}th column deletion, det = {laplacian(A, i, j)[1]}\")"
   ]
  },
  {
   "cell_type": "code",
   "execution_count": null,
   "metadata": {
    "vscode": {
     "languageId": "sage"
    }
   },
   "outputs": [],
   "source": []
  },
  {
   "cell_type": "code",
   "execution_count": 33,
   "metadata": {
    "vscode": {
     "languageId": "sage"
    }
   },
   "outputs": [
    {
     "name": "stdout",
     "output_type": "stream",
     "text": [
      "For the 1th row and 1th column deletion, det = 1\n",
      "For the 2th row and 2th column deletion, det = 1\n",
      "For the 3th row and 3th column deletion, det = 1\n"
     ]
    }
   ],
   "source": [
    "A = matrix([[0,-1,1],[1,0,-1],[-1,1,0]])\n",
    "for i in range(0,3):\n",
    "        print(f\"For the {i+1}th row and {i+1}th column deletion, det = {laplacian(A, i, i)[1]}\")"
   ]
  }
 ],
 "metadata": {
  "kernelspec": {
   "display_name": "SageMath 9.5",
   "language": "sage",
   "name": "sagemath"
  },
  "language_info": {
   "codemirror_mode": {
    "name": "ipython",
    "version": 3
   },
   "file_extension": ".py",
   "mimetype": "text/x-python",
   "name": "python",
   "nbconvert_exporter": "python",
   "pygments_lexer": "ipython3",
   "version": "3.10.12"
  }
 },
 "nbformat": 4,
 "nbformat_minor": 2
}
