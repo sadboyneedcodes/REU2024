{
 "cells": [
  {
   "cell_type": "code",
   "execution_count": 231,
   "metadata": {
    "vscode": {
     "languageId": "sage"
    }
   },
   "outputs": [],
   "source": [
    "#we define an \"incremented pd_code\" if it is of the form (a, b, a+1, b+1) or (a, b+1, a+1, b). This is achieved by walking around the knot and labelling each new 'strand'\n",
    "#with an incrementing indexing number as you pass over or under a crossing.\n",
    "\n",
    "#method for getting an incremented pd code of a knot as a list. sage takes pd_code lists as inputs for knots.\n",
    "def knot_from_table(k,n):\n",
    "    import snappy\n",
    "    def sage_pd_code(link):\n",
    "        pd = link.PD_code()\n",
    "        return [[element + 1 for element in tup] for tup in pd]\n",
    "    L = snappy.Link(str(k) + '_' + str(n))\n",
    "    snappd = sage_pd_code(L)\n",
    "    K = Knot(snappd)\n",
    "    return K\n",
    "\n",
    "#returns the list of regions with no negative values.\n",
    "def abs_regions(self):\n",
    "    regions = self.regions()\n",
    "    return [set(abs(element) for element in reg) for reg in regions]\n",
    "\n",
    "#returns the pd_code as a set. Used supplementarily to aid in intersection and difference checks.\n",
    "def cross(self):\n",
    "    return [set(pd) for pd in self.pd_code()]\n",
    "\n",
    "\n",
    "def weight(tuple):\n",
    "    if int(tuple[0]) % 2 == 1:\n",
    "        return +1\n",
    "    else:\n",
    "        return -1\n",
    "\n",
    "#returns the complement of two sets' intersection.\n",
    "def complement_intersection(set1, set2):\n",
    "    return set(set1).difference(set2)\n",
    "\n",
    "#returns the length of the intersection of two sets. used primarily for the weights of the crossings, as a set is unordered.\n",
    "def common_elements(lst, s):\n",
    "    list_set = set(lst)\n",
    "    common = list_set.intersection(s)\n",
    "    return len(common)\n",
    "\n",
    "#quick graph\n",
    "def decorate_and_plot_graph(g):\n",
    "    plot = g.plot(layout = 'spring', dist = 0.15, iterations = 200, edge_labels=True)\n",
    "    plot.show(figsize = 6)"
   ]
  },
  {
   "cell_type": "code",
   "execution_count": 233,
   "metadata": {
    "vscode": {
     "languageId": "sage"
    }
   },
   "outputs": [
    {
     "data": {
      "image/png": "[encoded data removed]",
      "text/plain": [
       "Graphics object consisting of 22 graphics primitives"
      ]
     },
     "metadata": {},
     "output_type": "display_data"
    }
   ],
   "source": [
    "from collections import defaultdict\n",
    "import sage.graphs.graph as graph\n",
    "\n",
    "K = knot_from_table(8,20)\n",
    "\n",
    "def tait_graph(K):\n",
    "    regions = abs_regions(K)\n",
    "    crossings = cross(K)\n",
    "    pd_code = K.pd_code()\n",
    "    #print(pd_code)\n",
    "    #print(crossings)\n",
    "    #print(abs_regions(K))\n",
    "    faces_static = {index: tuple(region) for index, region in enumerate(regions)}\n",
    "    faces = {tuple(region): index for index, region in enumerate(regions)}\n",
    "    #print(faces)\n",
    "    #print(faces_static)\n",
    "    edges = []\n",
    "    seen = []\n",
    "    #seen_weights = []\n",
    "    for ind in range(len(faces)):\n",
    "        common_list = [c for c in crossings if len(intersection(faces_static[ind], c)) == 2]\n",
    "\n",
    "        weight_check = [p for p in pd_code for c in common_list if common_elements(p,c) == 4]\n",
    "\n",
    "        common_list_weights = [weight(p) for p in weight_check]\n",
    "\n",
    "        \"\"\"\n",
    "        for p in weight_check:\n",
    "            seen_weights.append(p)\n",
    "        \"\"\"\n",
    "\n",
    "        #print(common_list)\n",
    "        #print(len(common_list) == len(common_list_weights))\n",
    "        set_diff = [complement_intersection(c, faces_static[ind]) for c in common_list]\n",
    "\n",
    "        neighboring_regions = [\n",
    "            (key, value)\n",
    "            for key, value in faces_static.items()\n",
    "            for s in set_diff if len(set(value).intersection(s)) == 2\n",
    "        ]\n",
    "\n",
    "        #print(neighboring_regions)\n",
    "        for i in range(len(neighboring_regions)):\n",
    "            if neighboring_regions[i][1] not in seen:\n",
    "                edges.append((faces[faces_static[ind]], neighboring_regions[i][0], common_list_weights[i]))\n",
    "        seen.append(faces_static[ind])\n",
    "        #print(seen)\n",
    "        #print(f\"edges = {edges}\")\n",
    "    \n",
    "    G = graph.Graph(edges, multiedges=True)\n",
    "    components = G.connected_components()\n",
    "    if len(components) > 2:\n",
    "        raise ValueError('The link diagram is split.')\n",
    "    return G.subgraph(components[0]), G.subgraph(components[1])\n",
    "    "
   ]
  },
  {
   "cell_type": "code",
   "execution_count": null,
   "metadata": {
    "vscode": {
     "languageId": "sage"
    }
   },
   "outputs": [],
   "source": [
    "black, white = tait_graph(K)\n",
    "\n",
    "decorate_and_plot_graph(white)"
   ]
  }
 ],
 "metadata": {
  "kernelspec": {
   "display_name": "SageMath 9.5",
   "language": "sage",
   "name": "sagemath"
  },
  "language_info": {
   "codemirror_mode": {
    "name": "ipython",
    "version": 3
   },
   "file_extension": ".py",
   "mimetype": "text/x-python",
   "name": "python",
   "nbconvert_exporter": "python",
   "pygments_lexer": "ipython3",
   "version": "3.10.12"
  }
 },
 "nbformat": 4,
 "nbformat_minor": 2
}
